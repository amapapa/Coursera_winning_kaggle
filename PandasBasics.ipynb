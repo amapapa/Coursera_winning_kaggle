{
  "nbformat": 4,
  "nbformat_minor": 0,
  "metadata": {
    "colab": {
      "name": "PandasBasics.ipynb",
      "version": "0.3.2",
      "provenance": [],
      "include_colab_link": true
    },
    "language_info": {
      "codemirror_mode": {
        "name": "ipython",
        "version": 3
      },
      "file_extension": ".py",
      "mimetype": "text/x-python",
      "name": "python",
      "nbconvert_exporter": "python",
      "pygments_lexer": "ipython3",
      "version": "3.6.2"
    },
    "kernelspec": {
      "display_name": "Python 3",
      "language": "python",
      "name": "python3"
    }
  },
  "cells": [
    {
      "cell_type": "markdown",
      "metadata": {
        "id": "view-in-github",
        "colab_type": "text"
      },
      "source": [
        "<a href=\"https://colab.research.google.com/github/amapapa/Coursera_winning_kaggle/blob/master/PandasBasics.ipynb\" target=\"_parent\"><img src=\"https://colab.research.google.com/assets/colab-badge.svg\" alt=\"Open In Colab\"/></a>"
      ]
    },
    {
      "cell_type": "markdown",
      "metadata": {
        "id": "m5Ja9Sr-QeCF",
        "colab_type": "text"
      },
      "source": [
        "Version 1.0.2"
      ]
    },
    {
      "cell_type": "markdown",
      "metadata": {
        "id": "YpYZLaYHQeCS",
        "colab_type": "text"
      },
      "source": [
        "# Pandas basics "
      ]
    },
    {
      "cell_type": "markdown",
      "metadata": {
        "id": "flL6qe2VQeCY",
        "colab_type": "text"
      },
      "source": [
        "Hi! In this programming assignment you need to refresh your `pandas` knowledge. You will need to do several [`groupby`](https://pandas.pydata.org/pandas-docs/stable/generated/pandas.DataFrame.groupby.html)s and [`join`]()`s to solve the task. "
      ]
    },
    {
      "cell_type": "code",
      "metadata": {
        "id": "PbLO7nG4QeCd",
        "colab_type": "code",
        "colab": {}
      },
      "source": [
        "import pandas as pd\n",
        "import numpy as np\n",
        "import os\n",
        "import matplotlib.pyplot as plt\n",
        "%matplotlib inline \n",
        "\n",
        "from grader import Grader"
      ],
      "execution_count": 0,
      "outputs": []
    },
    {
      "cell_type": "code",
      "metadata": {
        "id": "vRdWX0llQeCw",
        "colab_type": "code",
        "colab": {}
      },
      "source": [
        "DATA_FOLDER = '../readonly/final_project_data/'\n",
        "\n",
        "transactions    = pd.read_csv(os.path.join(DATA_FOLDER, 'sales_train.csv.gz',),parse_dates=[0])\n",
        "items           = pd.read_csv(os.path.join(DATA_FOLDER, 'items.csv'))\n",
        "item_categories = pd.read_csv(os.path.join(DATA_FOLDER, 'item_categories.csv'))\n",
        "shops           = pd.read_csv(os.path.join(DATA_FOLDER, 'shops.csv'))"
      ],
      "execution_count": 0,
      "outputs": []
    },
    {
      "cell_type": "markdown",
      "metadata": {
        "id": "pC7nXc7-QeDD",
        "colab_type": "text"
      },
      "source": [
        "The dataset we are going to use is taken from the competition, that serves as the final project for this course. You can find complete data description at the [competition web page](https://www.kaggle.com/c/competitive-data-science-final-project/data). To join the competition use [this link](https://www.kaggle.com/t/1ea93815dca248e99221df42ebde3540)."
      ]
    },
    {
      "cell_type": "markdown",
      "metadata": {
        "id": "lsRIRhGtQeDL",
        "colab_type": "text"
      },
      "source": [
        "## Grading"
      ]
    },
    {
      "cell_type": "markdown",
      "metadata": {
        "id": "N7qiQ8WRQeDS",
        "colab_type": "text"
      },
      "source": [
        "We will create a grader instace below and use it to collect your answers. When function `submit_tag` is called, grader will store your answer *locally*. The answers will *not* be submited to the platform immediately so you can call `submit_tag` function as many times as you need. \n",
        "\n",
        "When you are ready to push your answers to the platform you should fill your credentials and run `submit` function in the <a href=\"#Authorization-&-Submission\">last paragraph</a>  of the assignment."
      ]
    },
    {
      "cell_type": "code",
      "metadata": {
        "id": "Qz6ZwzF4QeDZ",
        "colab_type": "code",
        "colab": {}
      },
      "source": [
        "grader = Grader()"
      ],
      "execution_count": 0,
      "outputs": []
    },
    {
      "cell_type": "markdown",
      "metadata": {
        "id": "XFrYNF9tQeDj",
        "colab_type": "text"
      },
      "source": [
        "# Task"
      ]
    },
    {
      "cell_type": "markdown",
      "metadata": {
        "id": "AMXjZb9eQeDs",
        "colab_type": "text"
      },
      "source": [
        "Let's start with a simple task. \n",
        "\n",
        "<ol start=\"0\">\n",
        "  <li><b>Print the shape of the loaded dataframes and use [`df.head`](https://pandas.pydata.org/pandas-docs/stable/generated/pandas.DataFrame.head.html) function to print several rows. Examine the features you are given.</b></li>\n",
        "</ol>"
      ]
    },
    {
      "cell_type": "code",
      "metadata": {
        "id": "jom9K5hsQeD0",
        "colab_type": "code",
        "colab": {},
        "outputId": "b36bdc6a-ea75-405a-f674-e85a5a4b0b80"
      },
      "source": [
        "# YOUR CODE GOES HERE\n",
        "\n",
        "print(transactions.shape)\n",
        "print(items.shape)\n",
        "print(item_categories.shape)\n",
        "print(shops.shape)\n",
        "\n",
        "transactions.head()\n",
        "items.head()\n",
        "item_categories.head()\n",
        "shops.head()"
      ],
      "execution_count": 0,
      "outputs": [
        {
          "output_type": "stream",
          "text": [
            "(2935849, 6)\n",
            "(22170, 3)\n",
            "(84, 2)\n",
            "(60, 2)\n"
          ],
          "name": "stdout"
        },
        {
          "output_type": "execute_result",
          "data": {
            "text/html": [
              "<div>\n",
              "<style>\n",
              "    .dataframe thead tr:only-child th {\n",
              "        text-align: right;\n",
              "    }\n",
              "\n",
              "    .dataframe thead th {\n",
              "        text-align: left;\n",
              "    }\n",
              "\n",
              "    .dataframe tbody tr th {\n",
              "        vertical-align: top;\n",
              "    }\n",
              "</style>\n",
              "<table border=\"1\" class=\"dataframe\">\n",
              "  <thead>\n",
              "    <tr style=\"text-align: right;\">\n",
              "      <th></th>\n",
              "      <th>shop_name</th>\n",
              "      <th>shop_id</th>\n",
              "    </tr>\n",
              "  </thead>\n",
              "  <tbody>\n",
              "    <tr>\n",
              "      <th>0</th>\n",
              "      <td>!Якутск Орджоникидзе, 56 фран</td>\n",
              "      <td>0</td>\n",
              "    </tr>\n",
              "    <tr>\n",
              "      <th>1</th>\n",
              "      <td>!Якутск ТЦ \"Центральный\" фран</td>\n",
              "      <td>1</td>\n",
              "    </tr>\n",
              "    <tr>\n",
              "      <th>2</th>\n",
              "      <td>Адыгея ТЦ \"Мега\"</td>\n",
              "      <td>2</td>\n",
              "    </tr>\n",
              "    <tr>\n",
              "      <th>3</th>\n",
              "      <td>Балашиха ТРК \"Октябрь-Киномир\"</td>\n",
              "      <td>3</td>\n",
              "    </tr>\n",
              "    <tr>\n",
              "      <th>4</th>\n",
              "      <td>Волжский ТЦ \"Волга Молл\"</td>\n",
              "      <td>4</td>\n",
              "    </tr>\n",
              "  </tbody>\n",
              "</table>\n",
              "</div>"
            ],
            "text/plain": [
              "                        shop_name  shop_id\n",
              "0   !Якутск Орджоникидзе, 56 фран        0\n",
              "1   !Якутск ТЦ \"Центральный\" фран        1\n",
              "2                Адыгея ТЦ \"Мега\"        2\n",
              "3  Балашиха ТРК \"Октябрь-Киномир\"        3\n",
              "4        Волжский ТЦ \"Волга Молл\"        4"
            ]
          },
          "metadata": {
            "tags": []
          },
          "execution_count": 11
        }
      ]
    },
    {
      "cell_type": "code",
      "metadata": {
        "id": "BcCDkfsmQeER",
        "colab_type": "code",
        "colab": {},
        "outputId": "35b65563-5a56-4ae4-e257-77e7d4375ad2"
      },
      "source": [
        "transactions.head(5)"
      ],
      "execution_count": 0,
      "outputs": [
        {
          "output_type": "execute_result",
          "data": {
            "text/plain": [
              "str"
            ]
          },
          "metadata": {
            "tags": []
          },
          "execution_count": 20
        }
      ]
    },
    {
      "cell_type": "markdown",
      "metadata": {
        "id": "DqpSAxdlQeEs",
        "colab_type": "text"
      },
      "source": [
        "Now use your `pandas` skills to get answers for the following questions. \n",
        "The first question is:\n",
        "\n",
        "1. ** What was the maximum total revenue among all the shops in September, 2014?** \n",
        "\n",
        "\n",
        "* Hereinafter *revenue* refers to total sales minus value of goods returned.\n",
        "\n",
        "*Hints:*\n",
        "\n",
        "* Sometimes items are returned, find such examples in the dataset. \n",
        "* It is handy to split `date` field into [`day`, `month`, `year`] components and use `df.year == 14` and `df.month == 9` in order to select target subset of dates.\n",
        "* You may work with `date` feature as with srings, or you may first convert it to `pd.datetime` type with `pd.to_datetime` function, but do not forget to set correct `format` argument."
      ]
    },
    {
      "cell_type": "code",
      "metadata": {
        "id": "DxHRbY9AQeEz",
        "colab_type": "code",
        "colab": {},
        "outputId": "766aa900-541c-4860-b741-e38c4f41827a"
      },
      "source": [
        "# # YOUR CODE GOES HERE\n",
        "\n",
        "transactions['day']=''\n",
        "transactions['mon']=''\n",
        "transactions['year']=''\n",
        "\n",
        "# transactions['date']= pd.to_datetime(transactions['date'], dayfirst=True)\n",
        "\n",
        "# transactions['day']=transactions['date'].day\n",
        "# transactions['mon']=transactions['date'].month\n",
        "# transactions['year']=transactions['date'].year\n",
        "\n",
        "# # max_revenue = # PUT YOUR ANSWER IN THIS VARIABLE\n",
        "# # grader.submit_tag('max_revenue', max_revenue)"
      ],
      "execution_count": 0,
      "outputs": [
        {
          "output_type": "execute_result",
          "data": {
            "text/plain": [
              "(2935849, 6)"
            ]
          },
          "metadata": {
            "tags": []
          },
          "execution_count": 8
        }
      ]
    },
    {
      "cell_type": "markdown",
      "metadata": {
        "id": "MejysbnbQeFX",
        "colab_type": "text"
      },
      "source": [
        "Great! Let's move on and answer another question:\n",
        "\n",
        "<ol start=\"2\">\n",
        "  <li><b>What item category generated the highest revenue in summer 2014?</b></li>\n",
        "</ol>\n",
        "\n",
        "* Submit `id` of the category found.\n",
        "    \n",
        "* Here we call \"summer\" the period from June to August.\n",
        "\n",
        "*Hints:*\n",
        "\n",
        "* Note, that for an object `x` of type `pd.Series`: `x.argmax()` returns **index** of the maximum element. `pd.Series` can have non-trivial index (not `[1, 2, 3, ... ]`)."
      ]
    },
    {
      "cell_type": "code",
      "metadata": {
        "id": "QwaVNDzQQeFl",
        "colab_type": "code",
        "colab": {}
      },
      "source": [
        "# YOUR CODE GOES HERE\n",
        "\n",
        "category_id_with_max_revenue = # PUT YOUR ANSWER IN THIS VARIABLE\n",
        "grader.submit_tag('category_id_with_max_revenue', category_id_with_max_revenue)"
      ],
      "execution_count": 0,
      "outputs": []
    },
    {
      "cell_type": "markdown",
      "metadata": {
        "id": "PDCGWHYwQeFz",
        "colab_type": "text"
      },
      "source": [
        "<ol start=\"3\">\n",
        "  <li><b>How many items are there, such that their price stays constant (to the best of our knowledge) during the whole period of time?</b></li>\n",
        "</ol>\n",
        "\n",
        "* Let's assume, that the items are returned for the same price as they had been sold."
      ]
    },
    {
      "cell_type": "code",
      "metadata": {
        "id": "jQFHaVk4QeF1",
        "colab_type": "code",
        "colab": {}
      },
      "source": [
        "# YOUR CODE GOES HERE\n",
        "\n",
        "num_items_constant_price = # PUT YOUR ANSWER IN THIS VARIABLE\n",
        "grader.submit_tag('num_items_constant_price', num_items_constant_price)"
      ],
      "execution_count": 0,
      "outputs": []
    },
    {
      "cell_type": "markdown",
      "metadata": {
        "id": "TvJh3TS-QeF6",
        "colab_type": "text"
      },
      "source": [
        "Remember, the data can sometimes be noisy."
      ]
    },
    {
      "cell_type": "markdown",
      "metadata": {
        "id": "tAxPYeUKQeGE",
        "colab_type": "text"
      },
      "source": [
        "<ol start=\"4\">\n",
        "  <li><b>What was the variance of the number of sold items per day sequence for the shop with `shop_id = 25` in December, 2014? Do not count the items, that were sold but returned back later.</b></li>\n",
        "</ol>\n",
        "\n",
        "* Fill `total_num_items_sold` and `days` arrays, and plot the sequence with the code below.\n",
        "* Then compute variance. Remember, there can be differences in how you normalize variance (biased or unbiased estimate, see [link](https://math.stackexchange.com/questions/496627/the-difference-between-unbiased-biased-estimator-variance)). Compute ***unbiased*** estimate (use the right value for `ddof` argument in `pd.var` or `np.var`). \n",
        "* If there were no sales at a given day, ***do not*** impute missing value with zero, just ignore that day"
      ]
    },
    {
      "cell_type": "code",
      "metadata": {
        "id": "gPS6FMUgQeGH",
        "colab_type": "code",
        "colab": {}
      },
      "source": [
        "shop_id = 25\n",
        "\n",
        "total_num_items_sold = # YOUR CODE GOES HERE\n",
        "days = # YOUR CODE GOES HERE\n",
        "\n",
        "# Plot it\n",
        "plt.plot(days, total_num_items_sold)\n",
        "plt.ylabel('Num items')\n",
        "plt.xlabel('Day')\n",
        "plt.title(\"Daily revenue for shop_id = 25\")\n",
        "plt.show()\n",
        "\n",
        "total_num_items_sold_var = # PUT YOUR ANSWER IN THIS VARIABLE\n",
        "grader.submit_tag('total_num_items_sold_var', total_num_items_sold_var)"
      ],
      "execution_count": 0,
      "outputs": []
    },
    {
      "cell_type": "markdown",
      "metadata": {
        "id": "2uBs8v-xQeGS",
        "colab_type": "text"
      },
      "source": [
        "## Authorization & Submission\n",
        "To submit assignment to Cousera platform, please, enter your e-mail and token into the variables below. You can generate token on the programming assignment page. *Note:* Token expires 30 minutes after generation."
      ]
    },
    {
      "cell_type": "code",
      "metadata": {
        "id": "dlG8lSpkQeGV",
        "colab_type": "code",
        "colab": {}
      },
      "source": [
        "STUDENT_EMAIL = # EMAIL HERE\n",
        "STUDENT_TOKEN = # TOKEN HERE\n",
        "grader.status()"
      ],
      "execution_count": 0,
      "outputs": []
    },
    {
      "cell_type": "code",
      "metadata": {
        "id": "cX7tU9DSQeGi",
        "colab_type": "code",
        "colab": {}
      },
      "source": [
        "grader.submit(STUDENT_EMAIL, STUDENT_TOKEN)"
      ],
      "execution_count": 0,
      "outputs": []
    },
    {
      "cell_type": "markdown",
      "metadata": {
        "id": "LLQ-k5f2QeG1",
        "colab_type": "text"
      },
      "source": [
        "Well done! :)"
      ]
    }
  ]
}